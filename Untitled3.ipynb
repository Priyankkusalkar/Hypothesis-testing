{
 "cells": [
  {
   "cell_type": "markdown",
   "id": "dd4af9f5-ce4e-43b8-a3bd-f85834750b14",
   "metadata": {},
   "source": [
    "#### Assignment no 4"
   ]
  },
  {
   "cell_type": "markdown",
   "id": "25d24652-bb14-47b1-9b7a-7b97f72f7674",
   "metadata": {},
   "source": [
    "#### hypotesis testing"
   ]
  },
  {
   "cell_type": "code",
   "execution_count": 1,
   "id": "36884abb-711e-4a55-a9ff-88ed812ea3e2",
   "metadata": {},
   "outputs": [
    {
     "name": "stdout",
     "output_type": "stream",
     "text": [
      "Test Statistic: -38.0\n",
      "Critical Value: 1.7108820799094275\n",
      "Decision: Fail to reject H0\n",
      "Conclusion: There is not enough evidence to support the claim that the weekly operating costs are higher than the model suggests.\n"
     ]
    }
   ],
   "source": [
    "import numpy as np\n",
    "from scipy.stats import t\n",
    "\n",
    "# Given data\n",
    "sample_mean = 3050  # Rs.\n",
    "theoretical_mean = 1000 + 5 * 600  # Rs.\n",
    "population_std = 5 * 25  # Rs.\n",
    "sample_size = 25\n",
    "alpha = 0.05\n",
    "\n",
    "# Calculate the test statistic\n",
    "test_statistic = (sample_mean - theoretical_mean) / (population_std / np.sqrt(sample_size))\n",
    "\n",
    "# Determine the critical value\n",
    "degrees_of_freedom = sample_size - 1\n",
    "critical_value = t.ppf(1 - alpha, degrees_of_freedom)\n",
    "\n",
    "# Make a decision\n",
    "if test_statistic > critical_value:\n",
    "    decision = \"Reject H0\"\n",
    "else:\n",
    "    decision = \"Fail to reject H0\"\n",
    "\n",
    "# Print the results\n",
    "print(\"Test Statistic:\", test_statistic)\n",
    "print(\"Critical Value:\", critical_value)\n",
    "print(\"Decision:\", decision)\n",
    "\n",
    "# Conclusion\n",
    "if test_statistic > critical_value:\n",
    "    print(\"Conclusion: There is strong evidence to support the claim that the weekly operating costs are higher than the model suggests.\")\n",
    "else:\n",
    "    print(\"Conclusion: There is not enough evidence to support the claim that the weekly operating costs are higher than the model suggests.\")\n"
   ]
  },
  {
   "cell_type": "code",
   "execution_count": null,
   "id": "c119700e-8d2d-4a74-a9f3-e2c7b984cc77",
   "metadata": {},
   "outputs": [],
   "source": []
  }
 ],
 "metadata": {
  "kernelspec": {
   "display_name": "Python 3 (ipykernel)",
   "language": "python",
   "name": "python3"
  },
  "language_info": {
   "codemirror_mode": {
    "name": "ipython",
    "version": 3
   },
   "file_extension": ".py",
   "mimetype": "text/x-python",
   "name": "python",
   "nbconvert_exporter": "python",
   "pygments_lexer": "ipython3",
   "version": "3.11.7"
  },
  "widgets": {
   "application/vnd.jupyter.widget-state+json": {
    "state": {},
    "version_major": 2,
    "version_minor": 0
   }
  }
 },
 "nbformat": 4,
 "nbformat_minor": 5
}
